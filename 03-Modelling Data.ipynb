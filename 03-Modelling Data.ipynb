{
 "cells": [
  {
   "cell_type": "code",
   "execution_count": 1,
   "id": "773ff2f2",
   "metadata": {},
   "outputs": [],
   "source": [
    "import pandas as pd\n",
    "import numpy as np\n",
    "import matplotlib.pyplot as plt\n",
    "import seaborn as sns\n",
    "import warnings\n",
    "from imblearn.over_sampling import SMOTE\n",
    "from imblearn.under_sampling import RandomUnderSampler\n",
    "from sklearn.model_selection import train_test_split\n",
    "from sklearn.preprocessing import MinMaxScaler\n",
    "from sklearn.neighbors import KNeighborsClassifier\n",
    "from sklearn.svm import SVC\n",
    "from sklearn.ensemble import RandomForestClassifier\n",
    "from sklearn.linear_model import LogisticRegression\n",
    "from sklearn.tree import DecisionTreeClassifier\n",
    "from sklearn.metrics import accuracy_score\n",
    "from sklearn.metrics import classification_report, accuracy_score\n",
    "from sklearn.metrics import confusion_matrix, recall_score, precision_score, roc_auc_score, f1_score\n",
    "from sklearn.metrics import confusion_matrix\n",
    "from sklearn.metrics import plot_confusion_matrix\n",
    "from sklearn.metrics import classification_report\n",
    "from sklearn.metrics import roc_auc_score\n",
    "from plot_metric.functions import BinaryClassification\n",
    "\n",
    "pd.set_option('display.max_columns', 200)\n",
    "pd.set_option('display.max_rows', 200)\n",
    "warnings.filterwarnings('ignore')\n",
    "plt.style.use('seaborn')\n"
   ]
  },
  {
   "cell_type": "code",
   "execution_count": 3,
   "id": "7e82c2f0",
   "metadata": {},
   "outputs": [],
   "source": [
    "# Import dataset\n",
    "df=pd.read_excel('To EDA SME PRoductivity Model.xlsx')"
   ]
  },
  {
   "cell_type": "code",
   "execution_count": 4,
   "id": "64e15644",
   "metadata": {},
   "outputs": [],
   "source": [
    "df.drop(['Unnamed: 0'],axis=1,inplace=True)"
   ]
  },
  {
   "cell_type": "code",
   "execution_count": 5,
   "id": "58774a16",
   "metadata": {},
   "outputs": [
    {
     "data": {
      "text/html": [
       "<div>\n",
       "<style scoped>\n",
       "    .dataframe tbody tr th:only-of-type {\n",
       "        vertical-align: middle;\n",
       "    }\n",
       "\n",
       "    .dataframe tbody tr th {\n",
       "        vertical-align: top;\n",
       "    }\n",
       "\n",
       "    .dataframe thead th {\n",
       "        text-align: right;\n",
       "    }\n",
       "</style>\n",
       "<table border=\"1\" class=\"dataframe\">\n",
       "  <thead>\n",
       "    <tr style=\"text-align: right;\">\n",
       "      <th></th>\n",
       "      <th>DSTATS07</th>\n",
       "      <th>DISIC507</th>\n",
       "      <th>DPROVI07</th>\n",
       "      <th>IT1VCU07</th>\n",
       "      <th>RDNVCU07</th>\n",
       "      <th>RIMVCU07</th>\n",
       "      <th>EKSPOR07</th>\n",
       "      <th>YPRVCU07</th>\n",
       "      <th>PRPRCA07</th>\n",
       "      <th>YT1VCU07</th>\n",
       "      <th>SRMVCU07</th>\n",
       "      <th>SHFVCU07</th>\n",
       "      <th>SFNVCU07</th>\n",
       "      <th>V1101</th>\n",
       "      <th>V1103</th>\n",
       "      <th>V1106</th>\n",
       "      <th>V1109</th>\n",
       "      <th>V1112</th>\n",
       "      <th>HIGH PROD</th>\n",
       "      <th>MPUSAT</th>\n",
       "      <th>MDAERAH</th>\n",
       "      <th>MSWASTA</th>\n",
       "      <th>MASING</th>\n",
       "      <th>Pekerja Pria</th>\n",
       "      <th>Pekerja Wanita</th>\n",
       "      <th>gaji</th>\n",
       "      <th>BB bensin</th>\n",
       "      <th>BB solar</th>\n",
       "      <th>BB minyak tanah</th>\n",
       "      <th>BB batu bara</th>\n",
       "      <th>BB PGN</th>\n",
       "      <th>BB LPG</th>\n",
       "      <th>BB lain</th>\n",
       "      <th>BB pelumas</th>\n",
       "      <th>Tenaga Listrik</th>\n",
       "    </tr>\n",
       "  </thead>\n",
       "  <tbody>\n",
       "    <tr>\n",
       "      <th>0</th>\n",
       "      <td>3</td>\n",
       "      <td>6</td>\n",
       "      <td>11</td>\n",
       "      <td>3485425</td>\n",
       "      <td>127686335</td>\n",
       "      <td>0</td>\n",
       "      <td>0</td>\n",
       "      <td>209483928</td>\n",
       "      <td>0</td>\n",
       "      <td>0</td>\n",
       "      <td>0</td>\n",
       "      <td>0</td>\n",
       "      <td>0</td>\n",
       "      <td>0</td>\n",
       "      <td>0</td>\n",
       "      <td>0</td>\n",
       "      <td>0</td>\n",
       "      <td>0</td>\n",
       "      <td>0</td>\n",
       "      <td>0</td>\n",
       "      <td>0</td>\n",
       "      <td>0</td>\n",
       "      <td>1</td>\n",
       "      <td>892</td>\n",
       "      <td>219</td>\n",
       "      <td>13225290</td>\n",
       "      <td>47850</td>\n",
       "      <td>2678400</td>\n",
       "      <td>0</td>\n",
       "      <td>0</td>\n",
       "      <td>0</td>\n",
       "      <td>0</td>\n",
       "      <td>0</td>\n",
       "      <td>54600</td>\n",
       "      <td>134650</td>\n",
       "    </tr>\n",
       "    <tr>\n",
       "      <th>1</th>\n",
       "      <td>3</td>\n",
       "      <td>6</td>\n",
       "      <td>11</td>\n",
       "      <td>46200</td>\n",
       "      <td>47100000</td>\n",
       "      <td>0</td>\n",
       "      <td>1</td>\n",
       "      <td>48800000</td>\n",
       "      <td>0</td>\n",
       "      <td>0</td>\n",
       "      <td>0</td>\n",
       "      <td>0</td>\n",
       "      <td>167536</td>\n",
       "      <td>5843518</td>\n",
       "      <td>2390011</td>\n",
       "      <td>557667</td>\n",
       "      <td>35000</td>\n",
       "      <td>0</td>\n",
       "      <td>0</td>\n",
       "      <td>0</td>\n",
       "      <td>0</td>\n",
       "      <td>0</td>\n",
       "      <td>1</td>\n",
       "      <td>98</td>\n",
       "      <td>80</td>\n",
       "      <td>981638</td>\n",
       "      <td>589</td>\n",
       "      <td>109650</td>\n",
       "      <td>0</td>\n",
       "      <td>0</td>\n",
       "      <td>0</td>\n",
       "      <td>29875</td>\n",
       "      <td>0</td>\n",
       "      <td>6875</td>\n",
       "      <td>158750</td>\n",
       "    </tr>\n",
       "    <tr>\n",
       "      <th>2</th>\n",
       "      <td>3</td>\n",
       "      <td>6</td>\n",
       "      <td>11</td>\n",
       "      <td>12767660</td>\n",
       "      <td>159514</td>\n",
       "      <td>0</td>\n",
       "      <td>0</td>\n",
       "      <td>19699179</td>\n",
       "      <td>85</td>\n",
       "      <td>0</td>\n",
       "      <td>-51578</td>\n",
       "      <td>0</td>\n",
       "      <td>-44364</td>\n",
       "      <td>0</td>\n",
       "      <td>0</td>\n",
       "      <td>0</td>\n",
       "      <td>0</td>\n",
       "      <td>0</td>\n",
       "      <td>0</td>\n",
       "      <td>0</td>\n",
       "      <td>0</td>\n",
       "      <td>1</td>\n",
       "      <td>0</td>\n",
       "      <td>55</td>\n",
       "      <td>22</td>\n",
       "      <td>1101387</td>\n",
       "      <td>0</td>\n",
       "      <td>7658</td>\n",
       "      <td>0</td>\n",
       "      <td>0</td>\n",
       "      <td>0</td>\n",
       "      <td>0</td>\n",
       "      <td>0</td>\n",
       "      <td>0</td>\n",
       "      <td>259200</td>\n",
       "    </tr>\n",
       "    <tr>\n",
       "      <th>3</th>\n",
       "      <td>3</td>\n",
       "      <td>6</td>\n",
       "      <td>11</td>\n",
       "      <td>2500</td>\n",
       "      <td>230350</td>\n",
       "      <td>0</td>\n",
       "      <td>0</td>\n",
       "      <td>323850</td>\n",
       "      <td>95</td>\n",
       "      <td>0</td>\n",
       "      <td>-428000</td>\n",
       "      <td>255000</td>\n",
       "      <td>-85000</td>\n",
       "      <td>120000</td>\n",
       "      <td>200000</td>\n",
       "      <td>160000</td>\n",
       "      <td>300000</td>\n",
       "      <td>50000</td>\n",
       "      <td>1</td>\n",
       "      <td>0</td>\n",
       "      <td>0</td>\n",
       "      <td>1</td>\n",
       "      <td>0</td>\n",
       "      <td>27</td>\n",
       "      <td>4</td>\n",
       "      <td>258000</td>\n",
       "      <td>0</td>\n",
       "      <td>968</td>\n",
       "      <td>0</td>\n",
       "      <td>0</td>\n",
       "      <td>0</td>\n",
       "      <td>0</td>\n",
       "      <td>0</td>\n",
       "      <td>1478</td>\n",
       "      <td>26000</td>\n",
       "    </tr>\n",
       "    <tr>\n",
       "      <th>4</th>\n",
       "      <td>1</td>\n",
       "      <td>6</td>\n",
       "      <td>11</td>\n",
       "      <td>59925753</td>\n",
       "      <td>63095968</td>\n",
       "      <td>0</td>\n",
       "      <td>1</td>\n",
       "      <td>186598629</td>\n",
       "      <td>86</td>\n",
       "      <td>40237231</td>\n",
       "      <td>-6070846</td>\n",
       "      <td>16541198</td>\n",
       "      <td>114929807</td>\n",
       "      <td>6457906</td>\n",
       "      <td>80777694</td>\n",
       "      <td>434195416</td>\n",
       "      <td>4101577</td>\n",
       "      <td>9695266</td>\n",
       "      <td>0</td>\n",
       "      <td>1</td>\n",
       "      <td>0</td>\n",
       "      <td>0</td>\n",
       "      <td>0</td>\n",
       "      <td>924</td>\n",
       "      <td>54</td>\n",
       "      <td>18016687</td>\n",
       "      <td>0</td>\n",
       "      <td>2307995</td>\n",
       "      <td>0</td>\n",
       "      <td>0</td>\n",
       "      <td>45328893</td>\n",
       "      <td>0</td>\n",
       "      <td>0</td>\n",
       "      <td>0</td>\n",
       "      <td>2550000</td>\n",
       "    </tr>\n",
       "    <tr>\n",
       "      <th>...</th>\n",
       "      <td>...</td>\n",
       "      <td>...</td>\n",
       "      <td>...</td>\n",
       "      <td>...</td>\n",
       "      <td>...</td>\n",
       "      <td>...</td>\n",
       "      <td>...</td>\n",
       "      <td>...</td>\n",
       "      <td>...</td>\n",
       "      <td>...</td>\n",
       "      <td>...</td>\n",
       "      <td>...</td>\n",
       "      <td>...</td>\n",
       "      <td>...</td>\n",
       "      <td>...</td>\n",
       "      <td>...</td>\n",
       "      <td>...</td>\n",
       "      <td>...</td>\n",
       "      <td>...</td>\n",
       "      <td>...</td>\n",
       "      <td>...</td>\n",
       "      <td>...</td>\n",
       "      <td>...</td>\n",
       "      <td>...</td>\n",
       "      <td>...</td>\n",
       "      <td>...</td>\n",
       "      <td>...</td>\n",
       "      <td>...</td>\n",
       "      <td>...</td>\n",
       "      <td>...</td>\n",
       "      <td>...</td>\n",
       "      <td>...</td>\n",
       "      <td>...</td>\n",
       "      <td>...</td>\n",
       "      <td>...</td>\n",
       "    </tr>\n",
       "    <tr>\n",
       "      <th>18299</th>\n",
       "      <td>1</td>\n",
       "      <td>6</td>\n",
       "      <td>76</td>\n",
       "      <td>7150</td>\n",
       "      <td>320650</td>\n",
       "      <td>0</td>\n",
       "      <td>0</td>\n",
       "      <td>551400</td>\n",
       "      <td>0</td>\n",
       "      <td>0</td>\n",
       "      <td>-40000</td>\n",
       "      <td>0</td>\n",
       "      <td>-20000</td>\n",
       "      <td>60000</td>\n",
       "      <td>50000</td>\n",
       "      <td>14500</td>\n",
       "      <td>72000</td>\n",
       "      <td>0</td>\n",
       "      <td>0</td>\n",
       "      <td>0</td>\n",
       "      <td>0</td>\n",
       "      <td>0</td>\n",
       "      <td>1</td>\n",
       "      <td>18</td>\n",
       "      <td>3</td>\n",
       "      <td>200800</td>\n",
       "      <td>4590</td>\n",
       "      <td>7200</td>\n",
       "      <td>0</td>\n",
       "      <td>0</td>\n",
       "      <td>0</td>\n",
       "      <td>0</td>\n",
       "      <td>0</td>\n",
       "      <td>2100</td>\n",
       "      <td>8400</td>\n",
       "    </tr>\n",
       "    <tr>\n",
       "      <th>18300</th>\n",
       "      <td>3</td>\n",
       "      <td>6</td>\n",
       "      <td>81</td>\n",
       "      <td>50000</td>\n",
       "      <td>2997000</td>\n",
       "      <td>0</td>\n",
       "      <td>0</td>\n",
       "      <td>8815000</td>\n",
       "      <td>92</td>\n",
       "      <td>0</td>\n",
       "      <td>0</td>\n",
       "      <td>0</td>\n",
       "      <td>32000</td>\n",
       "      <td>123000</td>\n",
       "      <td>350000</td>\n",
       "      <td>0</td>\n",
       "      <td>0</td>\n",
       "      <td>0</td>\n",
       "      <td>1</td>\n",
       "      <td>0</td>\n",
       "      <td>0</td>\n",
       "      <td>1</td>\n",
       "      <td>0</td>\n",
       "      <td>56</td>\n",
       "      <td>6</td>\n",
       "      <td>682800</td>\n",
       "      <td>3600</td>\n",
       "      <td>0</td>\n",
       "      <td>0</td>\n",
       "      <td>0</td>\n",
       "      <td>0</td>\n",
       "      <td>0</td>\n",
       "      <td>0</td>\n",
       "      <td>1440</td>\n",
       "      <td>24000</td>\n",
       "    </tr>\n",
       "    <tr>\n",
       "      <th>18301</th>\n",
       "      <td>3</td>\n",
       "      <td>6</td>\n",
       "      <td>94</td>\n",
       "      <td>21600</td>\n",
       "      <td>293100</td>\n",
       "      <td>0</td>\n",
       "      <td>0</td>\n",
       "      <td>4158000</td>\n",
       "      <td>80</td>\n",
       "      <td>0</td>\n",
       "      <td>11800</td>\n",
       "      <td>0</td>\n",
       "      <td>28740</td>\n",
       "      <td>40000</td>\n",
       "      <td>200000</td>\n",
       "      <td>30000</td>\n",
       "      <td>80000</td>\n",
       "      <td>0</td>\n",
       "      <td>1</td>\n",
       "      <td>0</td>\n",
       "      <td>0</td>\n",
       "      <td>1</td>\n",
       "      <td>0</td>\n",
       "      <td>18</td>\n",
       "      <td>3</td>\n",
       "      <td>277200</td>\n",
       "      <td>1620</td>\n",
       "      <td>1620</td>\n",
       "      <td>810</td>\n",
       "      <td>0</td>\n",
       "      <td>0</td>\n",
       "      <td>0</td>\n",
       "      <td>216</td>\n",
       "      <td>7680</td>\n",
       "      <td>1333</td>\n",
       "    </tr>\n",
       "    <tr>\n",
       "      <th>18302</th>\n",
       "      <td>2</td>\n",
       "      <td>6</td>\n",
       "      <td>94</td>\n",
       "      <td>15328810</td>\n",
       "      <td>88436547</td>\n",
       "      <td>0</td>\n",
       "      <td>1</td>\n",
       "      <td>94337550</td>\n",
       "      <td>53</td>\n",
       "      <td>98004194</td>\n",
       "      <td>1388700</td>\n",
       "      <td>317412</td>\n",
       "      <td>1176385</td>\n",
       "      <td>9941885</td>\n",
       "      <td>8261904</td>\n",
       "      <td>6306913</td>\n",
       "      <td>1399766</td>\n",
       "      <td>1647713</td>\n",
       "      <td>0</td>\n",
       "      <td>0</td>\n",
       "      <td>0</td>\n",
       "      <td>0</td>\n",
       "      <td>1</td>\n",
       "      <td>774</td>\n",
       "      <td>225</td>\n",
       "      <td>17557950</td>\n",
       "      <td>91643</td>\n",
       "      <td>24447034</td>\n",
       "      <td>81</td>\n",
       "      <td>0</td>\n",
       "      <td>0</td>\n",
       "      <td>0</td>\n",
       "      <td>0</td>\n",
       "      <td>753596</td>\n",
       "      <td>0</td>\n",
       "    </tr>\n",
       "    <tr>\n",
       "      <th>18303</th>\n",
       "      <td>3</td>\n",
       "      <td>6</td>\n",
       "      <td>94</td>\n",
       "      <td>4650</td>\n",
       "      <td>70120</td>\n",
       "      <td>0</td>\n",
       "      <td>0</td>\n",
       "      <td>280800</td>\n",
       "      <td>70</td>\n",
       "      <td>0</td>\n",
       "      <td>15000</td>\n",
       "      <td>5000</td>\n",
       "      <td>0</td>\n",
       "      <td>100000</td>\n",
       "      <td>150000</td>\n",
       "      <td>0</td>\n",
       "      <td>45000</td>\n",
       "      <td>0</td>\n",
       "      <td>1</td>\n",
       "      <td>0</td>\n",
       "      <td>0</td>\n",
       "      <td>1</td>\n",
       "      <td>0</td>\n",
       "      <td>20</td>\n",
       "      <td>2</td>\n",
       "      <td>134400</td>\n",
       "      <td>2160</td>\n",
       "      <td>0</td>\n",
       "      <td>360</td>\n",
       "      <td>0</td>\n",
       "      <td>0</td>\n",
       "      <td>0</td>\n",
       "      <td>90</td>\n",
       "      <td>720</td>\n",
       "      <td>533</td>\n",
       "    </tr>\n",
       "  </tbody>\n",
       "</table>\n",
       "<p>18304 rows × 35 columns</p>\n",
       "</div>"
      ],
      "text/plain": [
       "       DSTATS07  DISIC507  DPROVI07  IT1VCU07   RDNVCU07  RIMVCU07  EKSPOR07  \\\n",
       "0             3         6        11   3485425  127686335         0         0   \n",
       "1             3         6        11     46200   47100000         0         1   \n",
       "2             3         6        11  12767660     159514         0         0   \n",
       "3             3         6        11      2500     230350         0         0   \n",
       "4             1         6        11  59925753   63095968         0         1   \n",
       "...         ...       ...       ...       ...        ...       ...       ...   \n",
       "18299         1         6        76      7150     320650         0         0   \n",
       "18300         3         6        81     50000    2997000         0         0   \n",
       "18301         3         6        94     21600     293100         0         0   \n",
       "18302         2         6        94  15328810   88436547         0         1   \n",
       "18303         3         6        94      4650      70120         0         0   \n",
       "\n",
       "        YPRVCU07  PRPRCA07  YT1VCU07  SRMVCU07  SHFVCU07   SFNVCU07    V1101  \\\n",
       "0      209483928         0         0         0         0          0        0   \n",
       "1       48800000         0         0         0         0     167536  5843518   \n",
       "2       19699179        85         0    -51578         0     -44364        0   \n",
       "3         323850        95         0   -428000    255000     -85000   120000   \n",
       "4      186598629        86  40237231  -6070846  16541198  114929807  6457906   \n",
       "...          ...       ...       ...       ...       ...        ...      ...   \n",
       "18299     551400         0         0    -40000         0     -20000    60000   \n",
       "18300    8815000        92         0         0         0      32000   123000   \n",
       "18301    4158000        80         0     11800         0      28740    40000   \n",
       "18302   94337550        53  98004194   1388700    317412    1176385  9941885   \n",
       "18303     280800        70         0     15000      5000          0   100000   \n",
       "\n",
       "          V1103      V1106    V1109    V1112  HIGH PROD  MPUSAT  MDAERAH  \\\n",
       "0             0          0        0        0          0       0        0   \n",
       "1       2390011     557667    35000        0          0       0        0   \n",
       "2             0          0        0        0          0       0        0   \n",
       "3        200000     160000   300000    50000          1       0        0   \n",
       "4      80777694  434195416  4101577  9695266          0       1        0   \n",
       "...         ...        ...      ...      ...        ...     ...      ...   \n",
       "18299     50000      14500    72000        0          0       0        0   \n",
       "18300    350000          0        0        0          1       0        0   \n",
       "18301    200000      30000    80000        0          1       0        0   \n",
       "18302   8261904    6306913  1399766  1647713          0       0        0   \n",
       "18303    150000          0    45000        0          1       0        0   \n",
       "\n",
       "       MSWASTA  MASING  Pekerja Pria  Pekerja Wanita      gaji  BB bensin  \\\n",
       "0            0       1           892             219  13225290      47850   \n",
       "1            0       1            98              80    981638        589   \n",
       "2            1       0            55              22   1101387          0   \n",
       "3            1       0            27               4    258000          0   \n",
       "4            0       0           924              54  18016687          0   \n",
       "...        ...     ...           ...             ...       ...        ...   \n",
       "18299        0       1            18               3    200800       4590   \n",
       "18300        1       0            56               6    682800       3600   \n",
       "18301        1       0            18               3    277200       1620   \n",
       "18302        0       1           774             225  17557950      91643   \n",
       "18303        1       0            20               2    134400       2160   \n",
       "\n",
       "       BB solar  BB minyak tanah  BB batu bara    BB PGN  BB LPG  BB lain  \\\n",
       "0       2678400                0             0         0       0        0   \n",
       "1        109650                0             0         0   29875        0   \n",
       "2          7658                0             0         0       0        0   \n",
       "3           968                0             0         0       0        0   \n",
       "4       2307995                0             0  45328893       0        0   \n",
       "...         ...              ...           ...       ...     ...      ...   \n",
       "18299      7200                0             0         0       0        0   \n",
       "18300         0                0             0         0       0        0   \n",
       "18301      1620              810             0         0       0      216   \n",
       "18302  24447034               81             0         0       0        0   \n",
       "18303         0              360             0         0       0       90   \n",
       "\n",
       "       BB pelumas  Tenaga Listrik  \n",
       "0           54600          134650  \n",
       "1            6875          158750  \n",
       "2               0          259200  \n",
       "3            1478           26000  \n",
       "4               0         2550000  \n",
       "...           ...             ...  \n",
       "18299        2100            8400  \n",
       "18300        1440           24000  \n",
       "18301        7680            1333  \n",
       "18302      753596               0  \n",
       "18303         720             533  \n",
       "\n",
       "[18304 rows x 35 columns]"
      ]
     },
     "execution_count": 5,
     "metadata": {},
     "output_type": "execute_result"
    }
   ],
   "source": [
    "df"
   ]
  },
  {
   "cell_type": "markdown",
   "id": "46328962",
   "metadata": {},
   "source": [
    "## Columns Legend\n",
    "\n",
    "DSTATS07 : Company Status\n",
    "\n",
    "DISIC507 : Main product of this manufacturing establishment\n",
    "\n",
    "DPROVI07 : Province\n",
    "\n",
    "IT1VCU07 : OTher expenses\n",
    "\n",
    "RDNVCU07 : Value of domestic raw material used\n",
    "\n",
    "RIMVCU07 : Value of imported raw material used\n",
    "\n",
    "EKSPOR07 : Export any products\n",
    "\n",
    "YPRVCU07 : value of all good produced during 2007\n",
    "\n",
    "PRPRCA07 : Percentage of actual production to production                  capacity during 2007\n",
    "\n",
    "YT1VCU07 : Total of other income received during 2007\n",
    "\n",
    "SRMVCU07 : Stock of raw material fuel\n",
    "\n",
    "SHFVCU0  : Stock of semi-finished products\n",
    "\n",
    "SFNVCU07 : Stock of finished product\n",
    "\n",
    "V1101    : Estimated value of land\n",
    "\n",
    "V1103    : Estimated value of building\n",
    "\n",
    "V1106    : Estimated value of machinery and equipment\n",
    "\n",
    "V1109\t : Estimated value of vehicles\n",
    "\n",
    "V1112    : Others estimated value of fixed capital"
   ]
  },
  {
   "cell_type": "markdown",
   "id": "06edf564",
   "metadata": {},
   "source": [
    "## One Hot Enconder"
   ]
  },
  {
   "cell_type": "code",
   "execution_count": 6,
   "id": "e5e92697",
   "metadata": {},
   "outputs": [],
   "source": [
    "df=pd.get_dummies(df,columns=['DSTATS07','DISIC507'])"
   ]
  },
  {
   "cell_type": "code",
   "execution_count": 7,
   "id": "20636fe1",
   "metadata": {},
   "outputs": [
    {
     "name": "stdout",
     "output_type": "stream",
     "text": [
      "<class 'pandas.core.frame.DataFrame'>\n",
      "RangeIndex: 18304 entries, 0 to 18303\n",
      "Data columns (total 37 columns):\n",
      " #   Column           Non-Null Count  Dtype\n",
      "---  ------           --------------  -----\n",
      " 0   DPROVI07         18304 non-null  int64\n",
      " 1   IT1VCU07         18304 non-null  int64\n",
      " 2   RDNVCU07         18304 non-null  int64\n",
      " 3   RIMVCU07         18304 non-null  int64\n",
      " 4   EKSPOR07         18304 non-null  int64\n",
      " 5   YPRVCU07         18304 non-null  int64\n",
      " 6   PRPRCA07         18304 non-null  int64\n",
      " 7   YT1VCU07         18304 non-null  int64\n",
      " 8   SRMVCU07         18304 non-null  int64\n",
      " 9   SHFVCU07         18304 non-null  int64\n",
      " 10  SFNVCU07         18304 non-null  int64\n",
      " 11  V1101            18304 non-null  int64\n",
      " 12  V1103            18304 non-null  int64\n",
      " 13  V1106            18304 non-null  int64\n",
      " 14  V1109            18304 non-null  int64\n",
      " 15  V1112            18304 non-null  int64\n",
      " 16  HIGH PROD        18304 non-null  int64\n",
      " 17  MPUSAT           18304 non-null  int64\n",
      " 18  MDAERAH          18304 non-null  int64\n",
      " 19  MSWASTA          18304 non-null  int64\n",
      " 20  MASING           18304 non-null  int64\n",
      " 21  Pekerja Pria     18304 non-null  int64\n",
      " 22  Pekerja Wanita   18304 non-null  int64\n",
      " 23  gaji             18304 non-null  int64\n",
      " 24  BB bensin        18304 non-null  int64\n",
      " 25  BB solar         18304 non-null  int64\n",
      " 26  BB minyak tanah  18304 non-null  int64\n",
      " 27  BB batu bara     18304 non-null  int64\n",
      " 28  BB PGN           18304 non-null  int64\n",
      " 29  BB LPG           18304 non-null  int64\n",
      " 30  BB lain          18304 non-null  int64\n",
      " 31  BB pelumas       18304 non-null  int64\n",
      " 32  Tenaga Listrik   18304 non-null  int64\n",
      " 33  DSTATS07_1       18304 non-null  uint8\n",
      " 34  DSTATS07_2       18304 non-null  uint8\n",
      " 35  DSTATS07_3       18304 non-null  uint8\n",
      " 36  DISIC507_6       18304 non-null  uint8\n",
      "dtypes: int64(33), uint8(4)\n",
      "memory usage: 4.7 MB\n"
     ]
    }
   ],
   "source": [
    "df.info()"
   ]
  },
  {
   "cell_type": "code",
   "execution_count": 8,
   "id": "50685322",
   "metadata": {},
   "outputs": [
    {
     "data": {
      "text/plain": [
       "array([0, 1], dtype=int64)"
      ]
     },
     "execution_count": 8,
     "metadata": {},
     "output_type": "execute_result"
    }
   ],
   "source": [
    "df['HIGH PROD'].unique()"
   ]
  },
  {
   "cell_type": "markdown",
   "id": "165a58d0",
   "metadata": {},
   "source": [
    "### Train test split"
   ]
  },
  {
   "cell_type": "code",
   "execution_count": 9,
   "id": "df2d7acc",
   "metadata": {},
   "outputs": [],
   "source": [
    " x = df.drop(['HIGH PROD'],axis = 1)\n",
    "y = df['HIGH PROD']"
   ]
  },
  {
   "cell_type": "code",
   "execution_count": 10,
   "id": "3e4b883c",
   "metadata": {},
   "outputs": [],
   "source": [
    "x_train, x_test, y_train, y_test = train_test_split(x,y, test_size = 0.2, random_state = 42)"
   ]
  },
  {
   "cell_type": "code",
   "execution_count": 11,
   "id": "77bdb57b",
   "metadata": {},
   "outputs": [
    {
     "name": "stdout",
     "output_type": "stream",
     "text": [
      "(14643, 36)\n",
      "(3661, 36)\n",
      "(14643,)\n",
      "(3661,)\n"
     ]
    }
   ],
   "source": [
    "print(x_train.shape)\n",
    "print(x_test.shape)\n",
    "print(y_train.shape)\n",
    "print(y_test.shape)"
   ]
  },
  {
   "cell_type": "markdown",
   "id": "5b179e55",
   "metadata": {},
   "source": [
    "#### Scaling data train"
   ]
  },
  {
   "cell_type": "code",
   "execution_count": 12,
   "id": "204e2ea6",
   "metadata": {},
   "outputs": [],
   "source": [
    "scaler_minmax = MinMaxScaler()"
   ]
  },
  {
   "cell_type": "code",
   "execution_count": 13,
   "id": "2df7e9d4",
   "metadata": {},
   "outputs": [],
   "source": [
    "kolom_scale = ['IT1VCU07', 'RDNVCU07', 'RIMVCU07','YPRVCU07','PRPRCA07','YT1VCU07','SRMVCU07','SHFVCU07','SFNVCU07','V1101','V1103','V1106','V1109','V1112','Pekerja Pria','Pekerja Wanita','gaji','BB bensin','BB solar','BB minyak tanah','BB batu bara','BB PGN','BB LPG','BB lain','BB pelumas','Tenaga Listrik']\n",
    "\n",
    "for i in kolom_scale:\n",
    "    x_train[i] = scaler_minmax.fit_transform(np.array(x_train[i]).reshape(-1, 1))"
   ]
  },
  {
   "cell_type": "markdown",
   "id": "0b10e352",
   "metadata": {},
   "source": [
    "#### Checking Imbalance"
   ]
  },
  {
   "cell_type": "code",
   "execution_count": 14,
   "id": "b814003c",
   "metadata": {},
   "outputs": [
    {
     "data": {
      "image/png": "[encoded data removed]",
      "text/plain": [
       "<Figure size 576x396 with 1 Axes>"
      ]
     },
     "metadata": {},
     "output_type": "display_data"
    }
   ],
   "source": [
    "plt.style.use('seaborn')\n",
    "df.groupby('HIGH PROD').count().iloc[:, 0].plot(kind='barh')\n",
    "plt.title('Perbandingan Jumlah Perusahaan Produktif dan Tidak Produktif')\n",
    "plt.xlabel('Jumlah Observasi')\n",
    "plt.yticks(ticks=[1, 0], labels=['Produktif', 'Tidak Produktif'])\n",
    "plt.show()"
   ]
  },
  {
   "cell_type": "code",
   "execution_count": 15,
   "id": "cacc48a0",
   "metadata": {},
   "outputs": [],
   "source": [
    "smote = SMOTE(random_state=41)\n",
    "under_sampling = RandomUnderSampler(random_state=41)"
   ]
  },
  {
   "cell_type": "code",
   "execution_count": 16,
   "id": "7746fe98",
   "metadata": {},
   "outputs": [
    {
     "data": {
      "text/plain": [
       "0    9379\n",
       "1    5264\n",
       "Name: HIGH PROD, dtype: int64"
      ]
     },
     "execution_count": 16,
     "metadata": {},
     "output_type": "execute_result"
    }
   ],
   "source": [
    "y_train.value_counts()"
   ]
  },
  {
   "cell_type": "code",
   "execution_count": 17,
   "id": "be628d77",
   "metadata": {},
   "outputs": [],
   "source": [
    "x_smote, y_smote = smote.fit_resample(x_train, y_train)\n",
    "x_under, y_under = under_sampling.fit_resample(x_train, y_train)"
   ]
  },
  {
   "cell_type": "code",
   "execution_count": 18,
   "id": "546a7591",
   "metadata": {},
   "outputs": [
    {
     "data": {
      "text/plain": [
       "0    9379\n",
       "1    9379\n",
       "Name: HIGH PROD, dtype: int64"
      ]
     },
     "execution_count": 18,
     "metadata": {},
     "output_type": "execute_result"
    }
   ],
   "source": [
    "y_smote.value_counts()"
   ]
  },
  {
   "cell_type": "code",
   "execution_count": 19,
   "id": "51d53252",
   "metadata": {},
   "outputs": [
    {
     "data": {
      "text/plain": [
       "0    5264\n",
       "1    5264\n",
       "Name: HIGH PROD, dtype: int64"
      ]
     },
     "execution_count": 19,
     "metadata": {},
     "output_type": "execute_result"
    }
   ],
   "source": [
    "y_under.value_counts()"
   ]
  },
  {
   "cell_type": "markdown",
   "id": "7fb3577e",
   "metadata": {},
   "source": [
    "# Modelling and testing"
   ]
  },
  {
   "cell_type": "code",
   "execution_count": 20,
   "id": "e5a3e316",
   "metadata": {},
   "outputs": [],
   "source": [
    "\n",
    "knn = KNeighborsClassifier(n_neighbors = 99)\n",
    "rf = RandomForestClassifier(random_state = 123)\n",
    "svm = SVC()\n",
    "lr = LogisticRegression(random_state = 123)\n",
    "dt = DecisionTreeClassifier(random_state = 123)"
   ]
  },
  {
   "cell_type": "code",
   "execution_count": 21,
   "id": "a34a818b",
   "metadata": {},
   "outputs": [],
   "source": [
    "models = [rf, svm, lr, knn, dt]\n",
    "\n",
    "for model in models:\n",
    "    model.fit(x_train, y_train)"
   ]
  },
  {
   "cell_type": "code",
   "execution_count": 22,
   "id": "2a7164bd",
   "metadata": {},
   "outputs": [],
   "source": [
    "ypred_rf = rf.predict(x_test)\n",
    "ypred_svm = svm.predict(x_test)\n",
    "ypred_lr = lr.predict(x_test)\n",
    "ypred_knn = knn.predict(x_test)\n",
    "ypred_dt = dt.predict(x_test)"
   ]
  },
  {
   "cell_type": "code",
   "execution_count": 23,
   "id": "7a5d3432",
   "metadata": {},
   "outputs": [],
   "source": [
    "knn_under = knn.fit(x_under, y_under)\n",
    "svm_under = svm.fit(x_under,y_under)\n",
    "lr_under = lr.fit(x_under,y_under)\n",
    "rf_under = rf.fit(x_under,y_under)\n",
    "dt_under = dt.fit(x_under,y_under)\n",
    "knn_smote = knn.fit(x_smote, y_smote)\n",
    "svm_smote = svm.fit(x_smote,y_smote)\n",
    "lr_smote = lr.fit(x_smote,y_smote)\n",
    "rf_smote = rf.fit(x_smote,y_smote)\n",
    "dt_smote = dt.fit(x_smote,y_smote)"
   ]
  },
  {
   "cell_type": "code",
   "execution_count": 24,
   "id": "b275ea4d",
   "metadata": {},
   "outputs": [],
   "source": [
    "ypred_knn_under = knn_under.predict(x_test)\n",
    "ypred_svm_under = svm_under.predict(x_test)\n",
    "ypred_lr_under = lr_under.predict(x_test)\n",
    "ypred_rf_under = rf_under.predict(x_test)\n",
    "ypred_dt_under = dt_under.predict(x_test)\n",
    "ypred_knn_smote = knn_smote.predict(x_test)\n",
    "ypred_svm_smote = svm_smote.predict(x_test)\n",
    "ypred_lr_smote = lr_smote.predict(x_test)\n",
    "ypred_rf_smote = rf_smote.predict(x_test)\n",
    "ypred_dt_smote = dt_smote.predict(x_test)"
   ]
  },
  {
   "cell_type": "markdown",
   "id": "2cd96b28",
   "metadata": {},
   "source": [
    "# Evaluating"
   ]
  },
  {
   "cell_type": "code",
   "execution_count": 25,
   "id": "05539ea1",
   "metadata": {},
   "outputs": [
    {
     "data": {
      "text/html": [
       "<div>\n",
       "<style scoped>\n",
       "    .dataframe tbody tr th:only-of-type {\n",
       "        vertical-align: middle;\n",
       "    }\n",
       "\n",
       "    .dataframe tbody tr th {\n",
       "        vertical-align: top;\n",
       "    }\n",
       "\n",
       "    .dataframe thead th {\n",
       "        text-align: right;\n",
       "    }\n",
       "</style>\n",
       "<table border=\"1\" class=\"dataframe\">\n",
       "  <thead>\n",
       "    <tr style=\"text-align: right;\">\n",
       "      <th></th>\n",
       "      <th>LR Model Score (%)</th>\n",
       "      <th>DT Model Score (%)</th>\n",
       "      <th>RF Model Score (%)</th>\n",
       "      <th>SVM Model Score (%)</th>\n",
       "      <th>KNN Model Score (%)</th>\n",
       "      <th>LR Undersampling Model Score (%)</th>\n",
       "      <th>DT Undersampling Model Score (%)</th>\n",
       "      <th>RF Undersampling Model Score (%)</th>\n",
       "      <th>SVM Undersampling Model Score (%)</th>\n",
       "      <th>KNN Undersampling Model Score (%)</th>\n",
       "      <th>LR Smote Model Score (%)</th>\n",
       "      <th>DT Smote Model Score (%)</th>\n",
       "      <th>RF Smote Model Score (%)</th>\n",
       "      <th>SVM Smote Model Score (%)</th>\n",
       "      <th>KNN Smote Model Score (%)</th>\n",
       "    </tr>\n",
       "  </thead>\n",
       "  <tbody>\n",
       "    <tr>\n",
       "      <th>accuracy</th>\n",
       "      <td>72.329964</td>\n",
       "      <td>45.042338</td>\n",
       "      <td>40.644633</td>\n",
       "      <td>64.408632</td>\n",
       "      <td>65.774379</td>\n",
       "      <td>71.892925</td>\n",
       "      <td>47.090959</td>\n",
       "      <td>52.362742</td>\n",
       "      <td>64.408632</td>\n",
       "      <td>71.674406</td>\n",
       "      <td>71.892925</td>\n",
       "      <td>47.090959</td>\n",
       "      <td>52.362742</td>\n",
       "      <td>64.408632</td>\n",
       "      <td>71.674406</td>\n",
       "    </tr>\n",
       "    <tr>\n",
       "      <th>recall</th>\n",
       "      <td>26.477360</td>\n",
       "      <td>61.243285</td>\n",
       "      <td>70.836531</td>\n",
       "      <td>0.000000</td>\n",
       "      <td>4.067536</td>\n",
       "      <td>24.481965</td>\n",
       "      <td>58.403684</td>\n",
       "      <td>42.133538</td>\n",
       "      <td>0.000000</td>\n",
       "      <td>23.637759</td>\n",
       "      <td>24.481965</td>\n",
       "      <td>58.403684</td>\n",
       "      <td>42.133538</td>\n",
       "      <td>0.000000</td>\n",
       "      <td>23.637759</td>\n",
       "    </tr>\n",
       "    <tr>\n",
       "      <th>precision</th>\n",
       "      <td>86.250000</td>\n",
       "      <td>34.620390</td>\n",
       "      <td>33.983800</td>\n",
       "      <td>0.000000</td>\n",
       "      <td>94.642857</td>\n",
       "      <td>87.637363</td>\n",
       "      <td>35.296846</td>\n",
       "      <td>35.672515</td>\n",
       "      <td>0.000000</td>\n",
       "      <td>88.000000</td>\n",
       "      <td>87.637363</td>\n",
       "      <td>35.296846</td>\n",
       "      <td>35.672515</td>\n",
       "      <td>0.000000</td>\n",
       "      <td>88.000000</td>\n",
       "    </tr>\n",
       "    <tr>\n",
       "      <th>roc_auc_score</th>\n",
       "      <td>62.072437</td>\n",
       "      <td>48.666596</td>\n",
       "      <td>47.398757</td>\n",
       "      <td>50.000000</td>\n",
       "      <td>51.970155</td>\n",
       "      <td>61.286784</td>\n",
       "      <td>49.621689</td>\n",
       "      <td>50.074403</td>\n",
       "      <td>50.000000</td>\n",
       "      <td>60.928294</td>\n",
       "      <td>61.286784</td>\n",
       "      <td>49.621689</td>\n",
       "      <td>50.074403</td>\n",
       "      <td>50.000000</td>\n",
       "      <td>60.928294</td>\n",
       "    </tr>\n",
       "    <tr>\n",
       "      <th>f1_score</th>\n",
       "      <td>40.516735</td>\n",
       "      <td>44.235033</td>\n",
       "      <td>45.931824</td>\n",
       "      <td>0.000000</td>\n",
       "      <td>7.799853</td>\n",
       "      <td>38.272346</td>\n",
       "      <td>44.001156</td>\n",
       "      <td>38.634764</td>\n",
       "      <td>0.000000</td>\n",
       "      <td>37.265578</td>\n",
       "      <td>38.272346</td>\n",
       "      <td>44.001156</td>\n",
       "      <td>38.634764</td>\n",
       "      <td>0.000000</td>\n",
       "      <td>37.265578</td>\n",
       "    </tr>\n",
       "  </tbody>\n",
       "</table>\n",
       "</div>"
      ],
      "text/plain": [
       "               LR Model Score (%)  DT Model Score (%)  RF Model Score (%)  \\\n",
       "accuracy                72.329964           45.042338           40.644633   \n",
       "recall                  26.477360           61.243285           70.836531   \n",
       "precision               86.250000           34.620390           33.983800   \n",
       "roc_auc_score           62.072437           48.666596           47.398757   \n",
       "f1_score                40.516735           44.235033           45.931824   \n",
       "\n",
       "               SVM Model Score (%)  KNN Model Score (%)  \\\n",
       "accuracy                 64.408632            65.774379   \n",
       "recall                    0.000000             4.067536   \n",
       "precision                 0.000000            94.642857   \n",
       "roc_auc_score            50.000000            51.970155   \n",
       "f1_score                  0.000000             7.799853   \n",
       "\n",
       "               LR Undersampling Model Score (%)  \\\n",
       "accuracy                              71.892925   \n",
       "recall                                24.481965   \n",
       "precision                             87.637363   \n",
       "roc_auc_score                         61.286784   \n",
       "f1_score                              38.272346   \n",
       "\n",
       "               DT Undersampling Model Score (%)  \\\n",
       "accuracy                              47.090959   \n",
       "recall                                58.403684   \n",
       "precision                             35.296846   \n",
       "roc_auc_score                         49.621689   \n",
       "f1_score                              44.001156   \n",
       "\n",
       "               RF Undersampling Model Score (%)  \\\n",
       "accuracy                              52.362742   \n",
       "recall                                42.133538   \n",
       "precision                             35.672515   \n",
       "roc_auc_score                         50.074403   \n",
       "f1_score                              38.634764   \n",
       "\n",
       "               SVM Undersampling Model Score (%)  \\\n",
       "accuracy                               64.408632   \n",
       "recall                                  0.000000   \n",
       "precision                               0.000000   \n",
       "roc_auc_score                          50.000000   \n",
       "f1_score                                0.000000   \n",
       "\n",
       "               KNN Undersampling Model Score (%)  LR Smote Model Score (%)  \\\n",
       "accuracy                               71.674406                 71.892925   \n",
       "recall                                 23.637759                 24.481965   \n",
       "precision                              88.000000                 87.637363   \n",
       "roc_auc_score                          60.928294                 61.286784   \n",
       "f1_score                               37.265578                 38.272346   \n",
       "\n",
       "               DT Smote Model Score (%)  RF Smote Model Score (%)  \\\n",
       "accuracy                      47.090959                 52.362742   \n",
       "recall                        58.403684                 42.133538   \n",
       "precision                     35.296846                 35.672515   \n",
       "roc_auc_score                 49.621689                 50.074403   \n",
       "f1_score                      44.001156                 38.634764   \n",
       "\n",
       "               SVM Smote Model Score (%)  KNN Smote Model Score (%)  \n",
       "accuracy                       64.408632                  71.674406  \n",
       "recall                          0.000000                  23.637759  \n",
       "precision                       0.000000                  88.000000  \n",
       "roc_auc_score                  50.000000                  60.928294  \n",
       "f1_score                        0.000000                  37.265578  "
      ]
     },
     "execution_count": 25,
     "metadata": {},
     "output_type": "execute_result"
    }
   ],
   "source": [
    "eval_rf = pd.DataFrame(data = [accuracy_score(y_test, ypred_rf)*100, recall_score(y_test, ypred_rf)*100,\n",
    "                    precision_score(y_test, ypred_rf)*100, roc_auc_score(y_test, ypred_rf)*100,\n",
    "                    f1_score(y_test, ypred_rf)*100],\n",
    "            index = ['accuracy', 'recall', 'precision', 'roc_auc_score', 'f1_score'],\n",
    "            columns = ['RF Model Score (%)'])\n",
    "\n",
    "eval_lr = pd.DataFrame(data = [accuracy_score(y_test, ypred_lr)*100, recall_score(y_test, ypred_lr)*100,\n",
    "                    precision_score(y_test, ypred_lr)*100, roc_auc_score(y_test, ypred_lr)*100,\n",
    "                    f1_score(y_test, ypred_lr)*100],\n",
    "            index = ['accuracy', 'recall', 'precision', 'roc_auc_score', 'f1_score'],\n",
    "            columns = ['LR Model Score (%)'])\n",
    "\n",
    "eval_dt = pd.DataFrame(data = [accuracy_score(y_test, ypred_dt)*100, recall_score(y_test, ypred_dt)*100,\n",
    "                    precision_score(y_test, ypred_dt)*100, roc_auc_score(y_test, ypred_dt)*100,\n",
    "                    f1_score(y_test, ypred_dt)*100],\n",
    "            index = ['accuracy', 'recall', 'precision', 'roc_auc_score', 'f1_score'],\n",
    "            columns = ['DT Model Score (%)'])\n",
    "\n",
    "eval_svm = pd.DataFrame(data = [accuracy_score(y_test, ypred_svm)*100, recall_score(y_test, ypred_svm)*100,\n",
    "                    precision_score(y_test, ypred_svm)*100, roc_auc_score(y_test, ypred_svm)*100,\n",
    "                    f1_score(y_test, ypred_svm)*100],\n",
    "            index = ['accuracy', 'recall', 'precision', 'roc_auc_score', 'f1_score'],\n",
    "            columns = ['SVM Model Score (%)'])\n",
    "\n",
    "eval_knn = pd.DataFrame(data = [accuracy_score(y_test, ypred_knn)*100, recall_score(y_test, ypred_knn)*100,\n",
    "                    precision_score(y_test, ypred_knn)*100, roc_auc_score(y_test, ypred_knn)*100,\n",
    "                    f1_score(y_test, ypred_knn)*100],\n",
    "            index = ['accuracy', 'recall', 'precision', 'roc_auc_score', 'f1_score'],\n",
    "            columns = ['KNN Model Score (%)'])\n",
    "\n",
    "eval_rf_under = pd.DataFrame(data = [accuracy_score(y_test, ypred_rf_under)*100, recall_score(y_test, ypred_rf_under)*100,\n",
    "                    precision_score(y_test, ypred_rf_under)*100, roc_auc_score(y_test, ypred_rf_under)*100,\n",
    "                    f1_score(y_test, ypred_rf_under)*100],\n",
    "            index = ['accuracy', 'recall', 'precision', 'roc_auc_score', 'f1_score'],\n",
    "            columns = ['RF Undersampling Model Score (%)'])\n",
    "\n",
    "eval_lr_under = pd.DataFrame(data = [accuracy_score(y_test, ypred_lr_under)*100, recall_score(y_test, ypred_lr_under)*100,\n",
    "                    precision_score(y_test, ypred_lr_under)*100, roc_auc_score(y_test, ypred_lr_under)*100,\n",
    "                    f1_score(y_test, ypred_lr_under)*100],\n",
    "            index = ['accuracy', 'recall', 'precision', 'roc_auc_score', 'f1_score'],\n",
    "            columns = ['LR Undersampling Model Score (%)'])\n",
    "\n",
    "eval_dt_under = pd.DataFrame(data = [accuracy_score(y_test, ypred_dt_under)*100, recall_score(y_test, ypred_dt_under)*100,\n",
    "                    precision_score(y_test, ypred_dt_under)*100, roc_auc_score(y_test, ypred_dt_under)*100,\n",
    "                    f1_score(y_test, ypred_dt_under)*100],\n",
    "            index = ['accuracy', 'recall', 'precision', 'roc_auc_score', 'f1_score'],\n",
    "            columns = ['DT Undersampling Model Score (%)'])\n",
    "\n",
    "eval_svm_under = pd.DataFrame(data = [accuracy_score(y_test, ypred_svm_under)*100, recall_score(y_test, ypred_svm_under)*100,\n",
    "                    precision_score(y_test, ypred_svm_under)*100, roc_auc_score(y_test, ypred_svm_under)*100,\n",
    "                    f1_score(y_test, ypred_svm_under)*100],\n",
    "            index = ['accuracy', 'recall', 'precision', 'roc_auc_score', 'f1_score'],\n",
    "            columns = ['SVM Undersampling Model Score (%)'])\n",
    "\n",
    "eval_knn_under = pd.DataFrame(data = [accuracy_score(y_test, ypred_knn_under)*100, recall_score(y_test, ypred_knn_under)*100,\n",
    "                    precision_score(y_test, ypred_knn_under)*100, roc_auc_score(y_test, ypred_knn_under)*100,\n",
    "                    f1_score(y_test, ypred_knn_under)*100],\n",
    "            index = ['accuracy', 'recall', 'precision', 'roc_auc_score', 'f1_score'],\n",
    "            columns = ['KNN Undersampling Model Score (%)'])\n",
    "\n",
    "eval_rf_smote = pd.DataFrame(data = [accuracy_score(y_test, ypred_rf_smote)*100, recall_score(y_test, ypred_rf_smote)*100,\n",
    "                    precision_score(y_test, ypred_rf_smote)*100, roc_auc_score(y_test, ypred_rf_smote)*100,\n",
    "                    f1_score(y_test, ypred_rf_smote)*100],\n",
    "            index = ['accuracy', 'recall', 'precision', 'roc_auc_score', 'f1_score'],\n",
    "            columns = ['RF Smote Model Score (%)'])\n",
    "\n",
    "eval_lr_smote = pd.DataFrame(data = [accuracy_score(y_test, ypred_lr_smote)*100, recall_score(y_test, ypred_lr_smote)*100,\n",
    "                    precision_score(y_test, ypred_lr_smote)*100, roc_auc_score(y_test, ypred_lr_smote)*100,\n",
    "                    f1_score(y_test, ypred_lr_smote)*100],\n",
    "            index = ['accuracy', 'recall', 'precision', 'roc_auc_score', 'f1_score'],\n",
    "            columns = ['LR Smote Model Score (%)'])\n",
    "\n",
    "eval_dt_smote = pd.DataFrame(data = [accuracy_score(y_test, ypred_dt_smote)*100, recall_score(y_test, ypred_dt_smote)*100,\n",
    "                    precision_score(y_test, ypred_dt_smote)*100, roc_auc_score(y_test, ypred_dt_smote)*100,\n",
    "                    f1_score(y_test, ypred_dt_smote)*100],\n",
    "            index = ['accuracy', 'recall', 'precision', 'roc_auc_score', 'f1_score'],\n",
    "            columns = ['DT Smote Model Score (%)'])\n",
    "\n",
    "eval_svm_smote = pd.DataFrame(data = [accuracy_score(y_test, ypred_svm_smote)*100, recall_score(y_test, ypred_svm_smote)*100,\n",
    "                    precision_score(y_test, ypred_svm_smote)*100, roc_auc_score(y_test, ypred_svm_smote)*100,\n",
    "                    f1_score(y_test, ypred_svm_smote)*100],\n",
    "            index = ['accuracy', 'recall', 'precision', 'roc_auc_score', 'f1_score'],\n",
    "            columns = ['SVM Smote Model Score (%)'])\n",
    "\n",
    "eval_knn_smote = pd.DataFrame(data = [accuracy_score(y_test, ypred_knn_smote)*100, recall_score(y_test, ypred_knn_smote)*100,\n",
    "                    precision_score(y_test, ypred_knn_smote)*100, roc_auc_score(y_test, ypred_knn_smote)*100,\n",
    "                    f1_score(y_test, ypred_knn_smote)*100],\n",
    "            index = ['accuracy', 'recall', 'precision', 'roc_auc_score', 'f1_score'],\n",
    "            columns = ['KNN Smote Model Score (%)'])\n",
    "\n",
    "eval_all = pd.concat([eval_lr, eval_dt, eval_rf, eval_svm, eval_knn, eval_lr_under, eval_dt_under, eval_rf_under, eval_svm_under, eval_knn_under, eval_lr_smote, eval_dt_smote, eval_rf_smote, eval_svm_smote, eval_knn_smote], axis=1)\n",
    "eval_all"
   ]
  },
  {
   "cell_type": "markdown",
   "id": "e157afaa",
   "metadata": {},
   "source": [
    "### Choose the best model\n",
    "\n",
    "I will use a model who had a higher precision score,lower recall score and the bigger ROC score.\n",
    "\n",
    "So, the model that we could use are Logistic Regression and KNN with SMOTE and Undersampling."
   ]
  },
  {
   "cell_type": "code",
   "execution_count": 26,
   "id": "8fe23bdf",
   "metadata": {},
   "outputs": [],
   "source": [
    "def CM(x,y):\n",
    "    print(classification_report(y_test, y))\n",
    "    plot_confusion_matrix(x, x_test, y_test)\n",
    "    plt.grid(False)"
   ]
  },
  {
   "cell_type": "code",
   "execution_count": 27,
   "id": "d4816a23",
   "metadata": {},
   "outputs": [],
   "source": [
    "def ROC(y):\n",
    "    bc = BinaryClassification(y_test, y, labels=[\"Class 0\", \"Class 1\"])\n",
    "    plt.figure(figsize=(5,5))\n",
    "    bc.plot_roc_curve()\n",
    "    plt.show()"
   ]
  },
  {
   "cell_type": "code",
   "execution_count": 28,
   "id": "49c61df0",
   "metadata": {},
   "outputs": [
    {
     "name": "stdout",
     "output_type": "stream",
     "text": [
      "              precision    recall  f1-score   support\n",
      "\n",
      "           0       0.71      0.98      0.82      2358\n",
      "           1       0.86      0.26      0.41      1303\n",
      "\n",
      "    accuracy                           0.72      3661\n",
      "   macro avg       0.78      0.62      0.61      3661\n",
      "weighted avg       0.76      0.72      0.67      3661\n",
      "\n"
     ]
    },
    {
     "data": {
      "image/png": "[encoded data removed]",
      "text/plain": [
       "<Figure size 576x396 with 2 Axes>"
      ]
     },
     "metadata": {},
     "output_type": "display_data"
    }
   ],
   "source": [
    "#Logistic Regression\n",
    "CM(lr,ypred_lr)"
   ]
  },
  {
   "cell_type": "code",
   "execution_count": 29,
   "id": "e2424369",
   "metadata": {},
   "outputs": [
    {
     "data": {
      "image/png": "[encoded data removed]",
      "text/plain": [
       "<Figure size 360x360 with 1 Axes>"
      ]
     },
     "metadata": {},
     "output_type": "display_data"
    }
   ],
   "source": [
    "ROC(ypred_lr)"
   ]
  },
  {
   "cell_type": "code",
   "execution_count": 30,
   "id": "ca035c99",
   "metadata": {},
   "outputs": [
    {
     "name": "stdout",
     "output_type": "stream",
     "text": [
      "              precision    recall  f1-score   support\n",
      "\n",
      "           0       0.65      1.00      0.79      2358\n",
      "           1       0.95      0.04      0.08      1303\n",
      "\n",
      "    accuracy                           0.66      3661\n",
      "   macro avg       0.80      0.52      0.43      3661\n",
      "weighted avg       0.76      0.66      0.54      3661\n",
      "\n"
     ]
    },
    {
     "data": {
      "image/png": "[encoded data removed]",
      "text/plain": [
       "<Figure size 576x396 with 2 Axes>"
      ]
     },
     "metadata": {},
     "output_type": "display_data"
    }
   ],
   "source": [
    "#KNN\n",
    "CM(knn,ypred_knn)"
   ]
  },
  {
   "cell_type": "code",
   "execution_count": 31,
   "id": "dfde3761",
   "metadata": {},
   "outputs": [
    {
     "data": {
      "image/png": "[encoded data removed]",
      "text/plain": [
       "<Figure size 360x360 with 1 Axes>"
      ]
     },
     "metadata": {},
     "output_type": "display_data"
    }
   ],
   "source": [
    "ROC(ypred_knn)"
   ]
  },
  {
   "cell_type": "code",
   "execution_count": 32,
   "id": "5b4ce2b5",
   "metadata": {},
   "outputs": [
    {
     "name": "stdout",
     "output_type": "stream",
     "text": [
      "              precision    recall  f1-score   support\n",
      "\n",
      "           0       0.70      0.98      0.82      2358\n",
      "           1       0.88      0.24      0.38      1303\n",
      "\n",
      "    accuracy                           0.72      3661\n",
      "   macro avg       0.79      0.61      0.60      3661\n",
      "weighted avg       0.76      0.72      0.66      3661\n",
      "\n"
     ]
    },
    {
     "data": {
      "image/png": "[encoded data removed]",
      "text/plain": [
       "<Figure size 576x396 with 2 Axes>"
      ]
     },
     "metadata": {},
     "output_type": "display_data"
    }
   ],
   "source": [
    "#logistic regression undersampling\n",
    "CM(lr_under,ypred_lr_under)"
   ]
  },
  {
   "cell_type": "code",
   "execution_count": 33,
   "id": "cbc94b65",
   "metadata": {},
   "outputs": [
    {
     "data": {
      "image/png": "[encoded data removed]",
      "text/plain": [
       "<Figure size 360x360 with 1 Axes>"
      ]
     },
     "metadata": {},
     "output_type": "display_data"
    }
   ],
   "source": [
    "ROC(ypred_lr_under)"
   ]
  },
  {
   "cell_type": "code",
   "execution_count": 34,
   "id": "a0e8254a",
   "metadata": {},
   "outputs": [
    {
     "name": "stdout",
     "output_type": "stream",
     "text": [
      "              precision    recall  f1-score   support\n",
      "\n",
      "           0       0.70      0.98      0.82      2358\n",
      "           1       0.88      0.24      0.37      1303\n",
      "\n",
      "    accuracy                           0.72      3661\n",
      "   macro avg       0.79      0.61      0.59      3661\n",
      "weighted avg       0.76      0.72      0.66      3661\n",
      "\n"
     ]
    },
    {
     "data": {
      "image/png": "[encoded data removed]",
      "text/plain": [
       "<Figure size 576x396 with 2 Axes>"
      ]
     },
     "metadata": {},
     "output_type": "display_data"
    }
   ],
   "source": [
    "#KNN Undersampling\n",
    "CM(knn_under,ypred_knn_under)"
   ]
  },
  {
   "cell_type": "code",
   "execution_count": 35,
   "id": "4c891b38",
   "metadata": {},
   "outputs": [
    {
     "data": {
      "image/png": "[encoded data removed]",
      "text/plain": [
       "<Figure size 360x360 with 1 Axes>"
      ]
     },
     "metadata": {},
     "output_type": "display_data"
    }
   ],
   "source": [
    "ROC(ypred_knn_under)"
   ]
  },
  {
   "cell_type": "code",
   "execution_count": 36,
   "id": "2bfd5f60",
   "metadata": {},
   "outputs": [
    {
     "name": "stdout",
     "output_type": "stream",
     "text": [
      "              precision    recall  f1-score   support\n",
      "\n",
      "           0       0.70      0.98      0.82      2358\n",
      "           1       0.88      0.24      0.38      1303\n",
      "\n",
      "    accuracy                           0.72      3661\n",
      "   macro avg       0.79      0.61      0.60      3661\n",
      "weighted avg       0.76      0.72      0.66      3661\n",
      "\n"
     ]
    },
    {
     "data": {
      "image/png": "[encoded data removed]",
      "text/plain": [
       "<Figure size 576x396 with 2 Axes>"
      ]
     },
     "metadata": {},
     "output_type": "display_data"
    }
   ],
   "source": [
    "#logistic regression smote\n",
    "CM(lr_smote,ypred_lr_smote)"
   ]
  },
  {
   "cell_type": "code",
   "execution_count": 37,
   "id": "9ea19dcd",
   "metadata": {},
   "outputs": [
    {
     "data": {
      "image/png": "[encoded data removed]",
      "text/plain": [
       "<Figure size 360x360 with 1 Axes>"
      ]
     },
     "metadata": {},
     "output_type": "display_data"
    }
   ],
   "source": [
    "ROC(ypred_lr_smote)"
   ]
  },
  {
   "cell_type": "code",
   "execution_count": 38,
   "id": "f749314b",
   "metadata": {},
   "outputs": [
    {
     "name": "stdout",
     "output_type": "stream",
     "text": [
      "              precision    recall  f1-score   support\n",
      "\n",
      "           0       0.70      0.98      0.82      2358\n",
      "           1       0.88      0.24      0.37      1303\n",
      "\n",
      "    accuracy                           0.72      3661\n",
      "   macro avg       0.79      0.61      0.59      3661\n",
      "weighted avg       0.76      0.72      0.66      3661\n",
      "\n"
     ]
    },
    {
     "data": {
      "image/png": "[encoded data removed]",
      "text/plain": [
       "<Figure size 576x396 with 2 Axes>"
      ]
     },
     "metadata": {},
     "output_type": "display_data"
    }
   ],
   "source": [
    "#KNN Smote\n",
    "CM(knn_smote,ypred_knn_smote)"
   ]
  },
  {
   "cell_type": "code",
   "execution_count": 39,
   "id": "8f0a1627",
   "metadata": {},
   "outputs": [
    {
     "data": {
      "image/png": "[encoded data removed]",
      "text/plain": [
       "<Figure size 360x360 with 1 Axes>"
      ]
     },
     "metadata": {},
     "output_type": "display_data"
    }
   ],
   "source": [
    "ROC(ypred_knn_smote)"
   ]
  },
  {
   "cell_type": "markdown",
   "id": "8f9c8c0f",
   "metadata": {},
   "source": [
    "---------\n",
    "\n",
    "### Conclusion\n",
    "\n",
    "After several deep investigation, we can see that Logistic Regression have the best model to predict the data with a score of recall 0 is 0.98 and the score of precision 1 is 0.86 with ROC curve score is 0.62"
   ]
  },
  {
   "cell_type": "code",
   "execution_count": null,
   "id": "771ccfc1",
   "metadata": {},
   "outputs": [],
   "source": []
  }
 ],
 "metadata": {
  "kernelspec": {
   "display_name": "Python 3 (ipykernel)",
   "language": "python",
   "name": "python3"
  },
  "language_info": {
   "codemirror_mode": {
    "name": "ipython",
    "version": 3
   },
   "file_extension": ".py",
   "mimetype": "text/x-python",
   "name": "python",
   "nbconvert_exporter": "python",
   "pygments_lexer": "ipython3",
   "version": "3.9.7"
  }
 },
 "nbformat": 4,
 "nbformat_minor": 5
}
