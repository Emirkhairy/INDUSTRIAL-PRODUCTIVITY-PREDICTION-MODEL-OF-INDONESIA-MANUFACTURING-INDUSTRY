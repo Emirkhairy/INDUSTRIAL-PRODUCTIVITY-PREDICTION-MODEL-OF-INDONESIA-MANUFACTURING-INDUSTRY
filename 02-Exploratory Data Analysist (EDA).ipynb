{
 "cells": [
  {
   "cell_type": "code",
   "execution_count": 1,
   "id": "33e432ea",
   "metadata": {},
   "outputs": [],
   "source": [
    "import pandas as pd\n",
    "import numpy as np\n",
    "import seaborn as sns\n",
    "import matplotlib.pyplot as plt"
   ]
  },
  {
   "cell_type": "markdown",
   "id": "2f510006",
   "metadata": {},
   "source": [
    "### Import the dataset"
   ]
  },
  {
   "cell_type": "code",
   "execution_count": 2,
   "id": "6d154cfd",
   "metadata": {},
   "outputs": [],
   "source": [
    "df=pd.read_excel('To EDA SME PRoductivity Model.xlsx')"
   ]
  },
  {
   "cell_type": "code",
   "execution_count": 3,
   "id": "87e2b956",
   "metadata": {},
   "outputs": [],
   "source": [
    "df['DPROVI07']=df['DPROVI07'].astype(str)"
   ]
  },
  {
   "cell_type": "markdown",
   "id": "e51b2056",
   "metadata": {},
   "source": [
    "### Where is the province with the most companies who run on manufactured industry"
   ]
  },
  {
   "cell_type": "code",
   "execution_count": 4,
   "id": "40800668",
   "metadata": {},
   "outputs": [],
   "source": [
    "prov_high=pd.DataFrame(df.groupby('DPROVI07',as_index=False)['HIGH PROD'].count().sort_values(by=['HIGH PROD'],ascending=False).head(10))\n"
   ]
  },
  {
   "cell_type": "code",
   "execution_count": 5,
   "id": "4aff4dfd",
   "metadata": {},
   "outputs": [
    {
     "data": {
      "text/html": [
       "<div>\n",
       "<style scoped>\n",
       "    .dataframe tbody tr th:only-of-type {\n",
       "        vertical-align: middle;\n",
       "    }\n",
       "\n",
       "    .dataframe tbody tr th {\n",
       "        vertical-align: top;\n",
       "    }\n",
       "\n",
       "    .dataframe thead th {\n",
       "        text-align: right;\n",
       "    }\n",
       "</style>\n",
       "<table border=\"1\" class=\"dataframe\">\n",
       "  <thead>\n",
       "    <tr style=\"text-align: right;\">\n",
       "      <th></th>\n",
       "      <th>DPROVI07</th>\n",
       "      <th>HIGH PROD</th>\n",
       "    </tr>\n",
       "  </thead>\n",
       "  <tbody>\n",
       "    <tr>\n",
       "      <th>12</th>\n",
       "      <td>33</td>\n",
       "      <td>4255</td>\n",
       "    </tr>\n",
       "    <tr>\n",
       "      <th>14</th>\n",
       "      <td>35</td>\n",
       "      <td>4176</td>\n",
       "    </tr>\n",
       "    <tr>\n",
       "      <th>11</th>\n",
       "      <td>32</td>\n",
       "      <td>3746</td>\n",
       "    </tr>\n",
       "    <tr>\n",
       "      <th>10</th>\n",
       "      <td>31</td>\n",
       "      <td>1187</td>\n",
       "    </tr>\n",
       "    <tr>\n",
       "      <th>1</th>\n",
       "      <td>12</td>\n",
       "      <td>1059</td>\n",
       "    </tr>\n",
       "    <tr>\n",
       "      <th>15</th>\n",
       "      <td>36</td>\n",
       "      <td>1024</td>\n",
       "    </tr>\n",
       "    <tr>\n",
       "      <th>16</th>\n",
       "      <td>51</td>\n",
       "      <td>468</td>\n",
       "    </tr>\n",
       "    <tr>\n",
       "      <th>13</th>\n",
       "      <td>34</td>\n",
       "      <td>438</td>\n",
       "    </tr>\n",
       "    <tr>\n",
       "      <th>9</th>\n",
       "      <td>21</td>\n",
       "      <td>282</td>\n",
       "    </tr>\n",
       "    <tr>\n",
       "      <th>25</th>\n",
       "      <td>73</td>\n",
       "      <td>281</td>\n",
       "    </tr>\n",
       "  </tbody>\n",
       "</table>\n",
       "</div>"
      ],
      "text/plain": [
       "   DPROVI07  HIGH PROD\n",
       "12       33       4255\n",
       "14       35       4176\n",
       "11       32       3746\n",
       "10       31       1187\n",
       "1        12       1059\n",
       "15       36       1024\n",
       "16       51        468\n",
       "13       34        438\n",
       "9        21        282\n",
       "25       73        281"
      ]
     },
     "execution_count": 5,
     "metadata": {},
     "output_type": "execute_result"
    }
   ],
   "source": [
    "prov_high"
   ]
  },
  {
   "cell_type": "code",
   "execution_count": 6,
   "id": "4190022f",
   "metadata": {
    "scrolled": false
   },
   "outputs": [
    {
     "data": {
      "text/plain": [
       "Text(0, 0.5, 'Jumlah usaha produksi tinggi')"
      ]
     },
     "execution_count": 6,
     "metadata": {},
     "output_type": "execute_result"
    },
    {
     "data": {
      "image/png": "[encoded data removed]",
      "text/plain": [
       "<Figure size 1080x360 with 1 Axes>"
      ]
     },
     "metadata": {},
     "output_type": "display_data"
    }
   ],
   "source": [
    "plt.style.use('fivethirtyeight')\n",
    "plt.figure(figsize=(15,5))\n",
    "plt.bar(prov_high['DPROVI07'],prov_high['HIGH PROD'],color='r')\n",
    "plt.grid(axis='x')\n",
    "plt.title('Provinsi dengan jumlah perusahaan terbanyak')\n",
    "plt.xlabel('Provinsi')\n",
    "\n",
    "plt.ylabel('Jumlah usaha produksi tinggi')"
   ]
  },
  {
   "cell_type": "markdown",
   "id": "0cd78fbe",
   "metadata": {},
   "source": [
    "#### X Axis explained\n",
    "\n",
    "33: Jawa Tengah\n",
    "\n",
    "35: Jawa Timur\n",
    "\n",
    "32: Jawa Barat\n",
    "\n",
    "31: DKI Jakarta\n",
    "\n",
    "12: Sumatera Utara\n",
    "\n",
    "36: Banten\n",
    "\n",
    "51: Bali\n",
    "\n",
    "34: D.I Yogyakarta\n",
    "\n",
    "21: Kepulauan Riau\n",
    "\n",
    "73: Sulawesi Selatan\n",
    "\n",
    "------"
   ]
  },
  {
   "cell_type": "markdown",
   "id": "d7301594",
   "metadata": {},
   "source": [
    "---\n",
    "### Which source of financing is most commonly used by companies?"
   ]
  },
  {
   "cell_type": "code",
   "execution_count": 7,
   "id": "1f6150b2",
   "metadata": {},
   "outputs": [
    {
     "data": {
      "text/plain": [
       "Text(0.5, 1.0, 'Sumber pembiayaan')"
      ]
     },
     "execution_count": 7,
     "metadata": {},
     "output_type": "execute_result"
    },
    {
     "data": {
      "image/png": "[encoded data removed]",
      "text/plain": [
       "<Figure size 432x288 with 1 Axes>"
      ]
     },
     "metadata": {},
     "output_type": "display_data"
    }
   ],
   "source": [
    "plt.pie(df['DSTATS07'].value_counts(),labels=df['DSTATS07'].unique(),shadow=True,autopct='%1.1f%%');\n",
    "plt.title('Sumber pembiayaan')"
   ]
  },
  {
   "cell_type": "markdown",
   "id": "ea49e2a4",
   "metadata": {},
   "source": [
    "#### Explained\n",
    "\n",
    "1: Penanaman Modal Dalam Negri (PMDN)\n",
    "\n",
    "2: Penanaman Modal Asing (PMA)\n",
    "\n",
    "3: Non-Fasilitas"
   ]
  },
  {
   "cell_type": "markdown",
   "id": "327d4643",
   "metadata": {},
   "source": [
    "## Check this tableau public to catch up with the more interactive vizualization\n",
    "\n",
    "For EDA in Tableau:\n",
    "https://public.tableau.com/app/profile/emir.khairy/viz/FinalProject2_16473593909990/Dashboard1"
   ]
  },
  {
   "cell_type": "code",
   "execution_count": null,
   "id": "9be4d57a",
   "metadata": {},
   "outputs": [],
   "source": [
    "from pandas_profiling import ProfileReport\n",
    "profile = ProfileReport(df, title=\"Dataframe Profiling Report\")\n",
    "profile"
   ]
  }
 ],
 "metadata": {
  "kernelspec": {
   "display_name": "Python 3 (ipykernel)",
   "language": "python",
   "name": "python3"
  },
  "language_info": {
   "codemirror_mode": {
    "name": "ipython",
    "version": 3
   },
   "file_extension": ".py",
   "mimetype": "text/x-python",
   "name": "python",
   "nbconvert_exporter": "python",
   "pygments_lexer": "ipython3",
   "version": "3.9.7"
  }
 },
 "nbformat": 4,
 "nbformat_minor": 5
}
